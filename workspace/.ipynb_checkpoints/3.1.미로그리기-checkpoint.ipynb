{
 "cells": [
  {
   "cell_type": "markdown",
   "metadata": {
    "colab_type": "text",
    "id": "VKWZulFYteDb"
   },
   "source": [
    "## 3.1 미로 그리기"
   ]
  },
  {
   "cell_type": "markdown",
   "metadata": {
    "colab_type": "text",
    "id": "PWX8sv-2xhIL"
   },
   "source": [
    "3.1.1 필요한 라이브러리 임포트"
   ]
  },
  {
   "cell_type": "code",
   "execution_count": 1,
   "metadata": {
    "colab": {},
    "colab_type": "code",
    "id": "75SrVyMKteDc"
   },
   "outputs": [],
   "source": [
    "# 미로 찾기에 필요한 라이브러리 임포트\n",
    "# 배열을 사용하기 위해서 numpy 임포트\n",
    "import numpy as np\n",
    "#파이썬에서 데이타를 차트로 그려주는 라이브러리 패키지 matplotlib.pyplot 임포트\n",
    "import matplotlib.pyplot as plt\n",
    "#notebook을 실행한 브라우저에서 차트를 볼 수 있도록 설정\n",
    "%matplotlib inline"
   ]
  },
  {
   "cell_type": "markdown",
   "metadata": {
    "colab_type": "text",
    "id": "xG78q3VHxskn"
   },
   "source": [
    "3.2 미로 그리기"
   ]
  },
  {
   "cell_type": "code",
   "execution_count": 9,
   "metadata": {
    "colab": {
     "base_uri": "https://localhost:8080/",
     "height": 303
    },
    "colab_type": "code",
    "executionInfo": {
     "elapsed": 1460,
     "status": "ok",
     "timestamp": 1588778408102,
     "user": {
      "displayName": "권혜윤",
      "photoUrl": "",
      "userId": "00367973903309108423"
     },
     "user_tz": -540
    },
    "id": "dYAJjzGay3yb",
    "outputId": "07f5d851-f964-48c3-bb80-9cf9a86a3834"
   },
   "outputs": [
    {
     "data": {
      "image/png": "[encoded data removed]",
      "text/plain": [
       "<Figure size 360x360 with 1 Axes>"
      ]
     },
     "metadata": {},
     "output_type": "display_data"
    }
   ],
   "source": [
    "#plt.figure(figsize=(가로 크기,세로 크기)) : 그림의 가로 세로 설정 (단위 인치)\n",
    "#그림의 가로 5인치 세로 5인치 설정\n",
    "fig = plt.figure(figsize=(5, 5))\n",
    "\n",
    "# plt.gca().set_xlim(0,3) : x좌표를 0~3으로 설정\n",
    "plt.gca().set_xlim(0, 3)\n",
    "#plt.gca().set_ylim(0, 3) : y좌표를 0~3으로 설정\n",
    "plt.gca().set_ylim(0, 3)\n",
    "\n",
    "#plt.text(): 그래프에 글씨를 출력하는 함수\n",
    "#plt.text(글씨 x좌표, 글씨 y좌표, 출력할 글씨,\n",
    "#      size=\"글씨사이즈 (단위 pt)\", ha=\"정렬방법 left, right,center\")\n",
    "plt.text(0.5, 2.5, 'S0', size=14, ha='center')\n",
    "plt.text(1.5, 2.5, 'S1', size=14, ha='center')\n",
    "plt.text(2.5, 2.5, 'S2', size=14, ha='center')\n",
    "plt.text(0.5, 1.5, 'S3', size=14, ha='center')\n",
    "plt.text(1.5, 1.5, 'S4', size=14, ha='center')\n",
    "plt.text(2.5, 1.5, 'S5', size=14, ha='center')\n",
    "plt.text(0.5, 0.5, 'S6', size=14, ha='center')\n",
    "plt.text(1.5, 0.5, 'S7', size=14, ha='center')\n",
    "plt.text(2.5, 0.5, 'S8', size=14, ha='center')\n",
    "plt.text(0.5, 2.3, 'START', ha='center')\n",
    "plt.text(2.5, 0.3, 'GOAL', ha='center')\n",
    "\n",
    "# plt.gca().plot () : 그래프에 그림을 그림\n",
    "#plt.gca().plot([그림의 x 좌표],[그림 y좌표], \n",
    "#              marker=\"그림모양 o 는 원 s는 사각형 d는 다이아몬드\", color=\"그림색 g는 그린\")\n",
    "circle = plt.gca().plot(0.5, 2.5, marker=\"o\", color='g', markersize=60)\n",
    "\n",
    "#plt.tick_params () 눈금표시 숨기기\n",
    "#labelbottom=False :아래쪽 label  숨기기\n",
    "#labelleft=False : 왼쪽 label 숨기기\n",
    "#bottom=False : 아래쪽 눈금 숨기기\n",
    "#left=False : 왼쪽 눈금 숨기기\n",
    "plt.tick_params(labelbottom=False, labelleft=False, bottom=False, left=False)"
   ]
  },
  {
   "cell_type": "code",
   "execution_count": 0,
   "metadata": {
    "colab": {},
    "colab_type": "code",
    "id": "fMzTWPAAtvVf"
   },
   "outputs": [],
   "source": []
  }
 ],
 "metadata": {
  "colab": {
   "collapsed_sections": [],
   "name": "3.1.미로그리기.ipynb",
   "provenance": []
  },
  "kernelspec": {
   "display_name": "Python 3",
   "language": "python",
   "name": "python3"
  },
  "language_info": {
   "codemirror_mode": {
    "name": "ipython",
    "version": 3
   },
   "file_extension": ".py",
   "mimetype": "text/x-python",
   "name": "python",
   "nbconvert_exporter": "python",
   "pygments_lexer": "ipython3",
   "version": "3.7.6"
  }
 },
 "nbformat": 4,
 "nbformat_minor": 1
}
