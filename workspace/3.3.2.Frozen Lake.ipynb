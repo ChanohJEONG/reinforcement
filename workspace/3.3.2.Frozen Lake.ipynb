{
 "cells": [
  {
   "cell_type": "code",
   "execution_count": 1,
   "metadata": {
    "colab": {},
    "colab_type": "code",
    "id": "Z5Vp8NjTVlFO"
   },
   "outputs": [],
   "source": [
    "import gym\n",
    "from gym.envs.registration import register"
   ]
  },
  {
   "cell_type": "code",
   "execution_count": 2,
   "metadata": {
    "colab": {},
    "colab_type": "code",
    "id": "N6tW_vEe4EIe"
   },
   "outputs": [],
   "source": [
    "#강화 학습 환경을 설정\n",
    "register(\n",
    "    id=\"FrozenLake-v1\",  #강화 학습 환경의 아이디를 설정\n",
    "    #gym.envs.toy_text:FrozenLakeEnv : FrozenLake 환경을 설정해서 리턴 하도록 설정\n",
    "    entry_point=\"gym.envs.toy_text:FrozenLakeEnv\", \n",
    "    kwargs={\n",
    "            \"map_name\": \"4x4\",  #FrozenLake 의 줄 칸을 설정 4줄 X4 칸\n",
    "            \"is_slippery\":False #미끄러짐 효과 설정 안함\n",
    "            }\n",
    ")"
   ]
  },
  {
   "cell_type": "code",
   "execution_count": 3,
   "metadata": {
    "colab": {},
    "colab_type": "code",
    "id": "UfY6s5SMWB3f"
   },
   "outputs": [],
   "source": [
    "#gym.make(\"FrozenLake-v1\"): FrozenLake-v1 환경을 설정해서 env에 리턴\n",
    "env=gym.make(\"FrozenLake-v1\")"
   ]
  },
  {
   "cell_type": "code",
   "execution_count": 4,
   "metadata": {
    "colab": {},
    "colab_type": "code",
    "id": "RttfWZzn2r9-"
   },
   "outputs": [
    {
     "name": "stdout",
     "output_type": "stream",
     "text": [
      "\n",
      "\u001b[41mS\u001b[0mFFF\n",
      "FHFH\n",
      "FFFH\n",
      "HFFG\n"
     ]
    }
   ],
   "source": [
    "#env.render(): Frozen Lake 게임을 출력\n",
    "env.render()"
   ]
  },
  {
   "cell_type": "code",
   "execution_count": 5,
   "metadata": {
    "colab": {},
    "colab_type": "code",
    "id": "CWvoKnNwWHUl"
   },
   "outputs": [],
   "source": [
    "#env.reset() : 현재 위지를 s 시장 위치로 설정하고 현재 위치를 리턴\n",
    "#              시작 위치는 첫번째줄 첫번째 칸이므로 0 이 리턴\n",
    "position=env.reset()"
   ]
  },
  {
   "cell_type": "code",
   "execution_count": 6,
   "metadata": {
    "colab": {},
    "colab_type": "code",
    "id": "s8XTqBpK3Koo"
   },
   "outputs": [
    {
     "data": {
      "text/plain": [
       "0"
      ]
     },
     "execution_count": 6,
     "metadata": {},
     "output_type": "execute_result"
    }
   ],
   "source": [
    "position"
   ]
  },
  {
   "cell_type": "code",
   "execution_count": 7,
   "metadata": {
    "colab": {},
    "colab_type": "code",
    "id": "b68qHw1H5JpG"
   },
   "outputs": [],
   "source": [
    "#done : 게임 종료 여부를 저장 할 변수 \n",
    "#       True : 게임 종료\n",
    "#       False : 게임 계속 진행\n",
    "done=False"
   ]
  },
  {
   "cell_type": "code",
   "execution_count": 9,
   "metadata": {
    "colab": {},
    "colab_type": "code",
    "id": "6h-2ZdSzWNu7"
   },
   "outputs": [
    {
     "name": "stdout",
     "output_type": "stream",
     "text": [
      "\n",
      "\u001b[41mS\u001b[0mFFF\n",
      "FHFH\n",
      "FFFH\n",
      "HFFG\n",
      "Left:0, Down:1, Right:2, Up:3 : 2\n",
      "position: 1 :reward: 0.0 :done: False :info: {'prob': 1.0}\n",
      "  (Right)\n",
      "S\u001b[41mF\u001b[0mFF\n",
      "FHFH\n",
      "FFFH\n",
      "HFFG\n",
      "Left:0, Down:1, Right:2, Up:3 : 2\n",
      "position: 2 :reward: 0.0 :done: False :info: {'prob': 1.0}\n",
      "  (Right)\n",
      "SF\u001b[41mF\u001b[0mF\n",
      "FHFH\n",
      "FFFH\n",
      "HFFG\n",
      "Left:0, Down:1, Right:2, Up:3 : 1\n",
      "position: 6 :reward: 0.0 :done: False :info: {'prob': 1.0}\n",
      "  (Down)\n",
      "SFFF\n",
      "FH\u001b[41mF\u001b[0mH\n",
      "FFFH\n",
      "HFFG\n",
      "Left:0, Down:1, Right:2, Up:3 : 1\n",
      "position: 10 :reward: 0.0 :done: False :info: {'prob': 1.0}\n",
      "  (Down)\n",
      "SFFF\n",
      "FHFH\n",
      "FF\u001b[41mF\u001b[0mH\n",
      "HFFG\n",
      "Left:0, Down:1, Right:2, Up:3 : 1\n",
      "position: 14 :reward: 0.0 :done: False :info: {'prob': 1.0}\n",
      "  (Down)\n",
      "SFFF\n",
      "FHFH\n",
      "FFFH\n",
      "HF\u001b[41mF\u001b[0mG\n",
      "Left:0, Down:1, Right:2, Up:3 : 2\n",
      "position: 15 :reward: 1.0 :done: True :info: {'prob': 1.0}\n"
     ]
    }
   ],
   "source": [
    "#done이 False일동안 반복\n",
    "while done==False:\n",
    "    #env.render(): Frozen Lake 게임을 출력\n",
    "    env.render()\n",
    "    #input() : 입력을 받아서 입력한 값을 리턴 입력한 값은 문자열로 리턴\n",
    "    #입력한 값이 str_action에 저장됨\n",
    "    str_action=input(\"Left:0, Down:1, Right:2, Up:3 : \")\n",
    "    #int(str_action) : str_action을 정수로 변환해서 리턴\n",
    "    #str_action 이 정수로 변환 되서 action에 저장\n",
    "    action=int(str_action)\n",
    "    #env.step(action) : Frozen Lake 게임에서 action 방향으로 이동하고\n",
    "    #새로운 위치, 보상(Goal 에 도착하면 1), 게임 종료 여부(Goal이거나 Hole에 빠지면 종료), 게임정보를 리턴\n",
    "    #새로운 위치 - position에 저장\n",
    "    #보상 -reward에 저장\n",
    "    #게임 종료 여부 - done에 저장\n",
    "    #게임 정보 - info에 저장\n",
    "    position,reward,done,info=env.step(action)\n",
    "    print(\"position:\",position,\":reward:\",reward,\":done:\",done,\":info:\",info)    "
   ]
  }
 ],
 "metadata": {
  "colab": {
   "authorship_tag": "ABX9TyP+toXZObezKVN9pDGZJOlW",
   "collapsed_sections": [],
   "name": "3.3.2.Frozen Lake.ipynb",
   "private_outputs": true,
   "provenance": []
  },
  "kernelspec": {
   "display_name": "Python 3",
   "language": "python",
   "name": "python3"
  },
  "language_info": {
   "codemirror_mode": {
    "name": "ipython",
    "version": 3
   },
   "file_extension": ".py",
   "mimetype": "text/x-python",
   "name": "python",
   "nbconvert_exporter": "python",
   "pygments_lexer": "ipython3",
   "version": "3.7.6"
  }
 },
 "nbformat": 4,
 "nbformat_minor": 1
}
